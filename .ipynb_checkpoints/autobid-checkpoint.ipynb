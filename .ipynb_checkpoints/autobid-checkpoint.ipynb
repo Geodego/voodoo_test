{
 "cells": [
  {
   "cell_type": "markdown",
   "id": "81d75648",
   "metadata": {},
   "source": [
    "# Autobib"
   ]
  },
  {
   "cell_type": "markdown",
   "id": "daac62ae",
   "metadata": {},
   "source": [
    "## EDA"
   ]
  },
  {
   "cell_type": "markdown",
   "id": "e1a2d206",
   "metadata": {},
   "source": [
    "We first perform an EDA of the dataset\n"
   ]
  },
  {
   "cell_type": "code",
   "execution_count": 2,
   "id": "2a6a93fc",
   "metadata": {},
   "outputs": [],
   "source": [
    "import pandas as pd "
   ]
  },
  {
   "cell_type": "code",
   "execution_count": 3,
   "id": "96583bb8",
   "metadata": {},
   "outputs": [],
   "source": [
    "from data_manage import get_data, get_clean_average, preprocess"
   ]
  },
  {
   "cell_type": "code",
   "execution_count": 4,
   "id": "25f85ced",
   "metadata": {},
   "outputs": [],
   "source": [
    "df = get_data('train')"
   ]
  },
  {
   "cell_type": "code",
   "execution_count": 5,
   "id": "28cfc50b",
   "metadata": {},
   "outputs": [
    {
     "data": {
      "text/html": [
       "<div>\n",
       "<style scoped>\n",
       "    .dataframe tbody tr th:only-of-type {\n",
       "        vertical-align: middle;\n",
       "    }\n",
       "\n",
       "    .dataframe tbody tr th {\n",
       "        vertical-align: top;\n",
       "    }\n",
       "\n",
       "    .dataframe thead th {\n",
       "        text-align: right;\n",
       "    }\n",
       "</style>\n",
       "<table border=\"1\" class=\"dataframe\">\n",
       "  <thead>\n",
       "    <tr style=\"text-align: right;\">\n",
       "      <th></th>\n",
       "      <th>feature_site_D-8_installs</th>\n",
       "      <th>feature_site_D-8_d0_rev_value</th>\n",
       "      <th>feature_site_D-8_d8_rev_value</th>\n",
       "      <th>feature_site_D-7_installs</th>\n",
       "      <th>feature_site_D-7_d0_rev_value</th>\n",
       "      <th>feature_site_D-7_d7_rev_value</th>\n",
       "      <th>feature_site_D-6_installs</th>\n",
       "      <th>feature_site_D-6_d0_rev_value</th>\n",
       "      <th>feature_site_D-6_d6_rev_value</th>\n",
       "      <th>feature_site_D-5_installs</th>\n",
       "      <th>...</th>\n",
       "      <th>feature_app_D-3_d3_rev_value</th>\n",
       "      <th>feature_app_D-2_installs</th>\n",
       "      <th>feature_app_D-2_d0_rev_value</th>\n",
       "      <th>feature_app_D-2_d2_rev_value</th>\n",
       "      <th>feature_app_D-1_installs</th>\n",
       "      <th>feature_app_D-1_d0_rev_value</th>\n",
       "      <th>feature_app_D-1_d1_rev_value</th>\n",
       "      <th>feature_app_D0_installs</th>\n",
       "      <th>feature_app_D0_d0_rev_value</th>\n",
       "      <th>target_site</th>\n",
       "    </tr>\n",
       "  </thead>\n",
       "  <tbody>\n",
       "    <tr>\n",
       "      <th>0</th>\n",
       "      <td>NaN</td>\n",
       "      <td>NaN</td>\n",
       "      <td>NaN</td>\n",
       "      <td>NaN</td>\n",
       "      <td>NaN</td>\n",
       "      <td>NaN</td>\n",
       "      <td>NaN</td>\n",
       "      <td>NaN</td>\n",
       "      <td>NaN</td>\n",
       "      <td>NaN</td>\n",
       "      <td>...</td>\n",
       "      <td>0.075404</td>\n",
       "      <td>11594.0</td>\n",
       "      <td>0.051442</td>\n",
       "      <td>0.069153</td>\n",
       "      <td>11090.0</td>\n",
       "      <td>0.052052</td>\n",
       "      <td>0.063832</td>\n",
       "      <td>10565.0</td>\n",
       "      <td>0.055874</td>\n",
       "      <td>0.026049</td>\n",
       "    </tr>\n",
       "    <tr>\n",
       "      <th>1</th>\n",
       "      <td>805.0</td>\n",
       "      <td>0.072786</td>\n",
       "      <td>0.140335</td>\n",
       "      <td>646.0</td>\n",
       "      <td>0.072781</td>\n",
       "      <td>0.132105</td>\n",
       "      <td>687.0</td>\n",
       "      <td>0.068517</td>\n",
       "      <td>0.119165</td>\n",
       "      <td>704.0</td>\n",
       "      <td>...</td>\n",
       "      <td>0.052096</td>\n",
       "      <td>200522.0</td>\n",
       "      <td>0.028490</td>\n",
       "      <td>0.046044</td>\n",
       "      <td>210970.0</td>\n",
       "      <td>0.033250</td>\n",
       "      <td>0.045672</td>\n",
       "      <td>213128.0</td>\n",
       "      <td>0.037260</td>\n",
       "      <td>0.243845</td>\n",
       "    </tr>\n",
       "    <tr>\n",
       "      <th>2</th>\n",
       "      <td>NaN</td>\n",
       "      <td>NaN</td>\n",
       "      <td>NaN</td>\n",
       "      <td>NaN</td>\n",
       "      <td>NaN</td>\n",
       "      <td>NaN</td>\n",
       "      <td>NaN</td>\n",
       "      <td>NaN</td>\n",
       "      <td>NaN</td>\n",
       "      <td>NaN</td>\n",
       "      <td>...</td>\n",
       "      <td>0.189784</td>\n",
       "      <td>6782.0</td>\n",
       "      <td>0.120070</td>\n",
       "      <td>0.189299</td>\n",
       "      <td>6089.0</td>\n",
       "      <td>0.125201</td>\n",
       "      <td>0.168881</td>\n",
       "      <td>5403.0</td>\n",
       "      <td>0.122818</td>\n",
       "      <td>0.552939</td>\n",
       "    </tr>\n",
       "    <tr>\n",
       "      <th>3</th>\n",
       "      <td>NaN</td>\n",
       "      <td>NaN</td>\n",
       "      <td>NaN</td>\n",
       "      <td>2.0</td>\n",
       "      <td>0.003011</td>\n",
       "      <td>0.004328</td>\n",
       "      <td>1.0</td>\n",
       "      <td>0.001532</td>\n",
       "      <td>0.001532</td>\n",
       "      <td>NaN</td>\n",
       "      <td>...</td>\n",
       "      <td>0.045476</td>\n",
       "      <td>40644.0</td>\n",
       "      <td>0.024137</td>\n",
       "      <td>0.032710</td>\n",
       "      <td>28002.0</td>\n",
       "      <td>0.028119</td>\n",
       "      <td>0.033978</td>\n",
       "      <td>34619.0</td>\n",
       "      <td>0.024765</td>\n",
       "      <td>0.023584</td>\n",
       "    </tr>\n",
       "    <tr>\n",
       "      <th>4</th>\n",
       "      <td>1.0</td>\n",
       "      <td>0.079453</td>\n",
       "      <td>0.240620</td>\n",
       "      <td>2.0</td>\n",
       "      <td>0.048610</td>\n",
       "      <td>0.059508</td>\n",
       "      <td>NaN</td>\n",
       "      <td>NaN</td>\n",
       "      <td>NaN</td>\n",
       "      <td>NaN</td>\n",
       "      <td>...</td>\n",
       "      <td>0.043391</td>\n",
       "      <td>845087.0</td>\n",
       "      <td>0.026870</td>\n",
       "      <td>0.037267</td>\n",
       "      <td>720744.0</td>\n",
       "      <td>0.026335</td>\n",
       "      <td>0.032965</td>\n",
       "      <td>765399.0</td>\n",
       "      <td>0.024237</td>\n",
       "      <td>0.529795</td>\n",
       "    </tr>\n",
       "  </tbody>\n",
       "</table>\n",
       "<p>5 rows × 209 columns</p>\n",
       "</div>"
      ],
      "text/plain": [
       "   feature_site_D-8_installs  feature_site_D-8_d0_rev_value  \\\n",
       "0                        NaN                            NaN   \n",
       "1                      805.0                       0.072786   \n",
       "2                        NaN                            NaN   \n",
       "3                        NaN                            NaN   \n",
       "4                        1.0                       0.079453   \n",
       "\n",
       "   feature_site_D-8_d8_rev_value  feature_site_D-7_installs  \\\n",
       "0                            NaN                        NaN   \n",
       "1                       0.140335                      646.0   \n",
       "2                            NaN                        NaN   \n",
       "3                            NaN                        2.0   \n",
       "4                       0.240620                        2.0   \n",
       "\n",
       "   feature_site_D-7_d0_rev_value  feature_site_D-7_d7_rev_value  \\\n",
       "0                            NaN                            NaN   \n",
       "1                       0.072781                       0.132105   \n",
       "2                            NaN                            NaN   \n",
       "3                       0.003011                       0.004328   \n",
       "4                       0.048610                       0.059508   \n",
       "\n",
       "   feature_site_D-6_installs  feature_site_D-6_d0_rev_value  \\\n",
       "0                        NaN                            NaN   \n",
       "1                      687.0                       0.068517   \n",
       "2                        NaN                            NaN   \n",
       "3                        1.0                       0.001532   \n",
       "4                        NaN                            NaN   \n",
       "\n",
       "   feature_site_D-6_d6_rev_value  feature_site_D-5_installs  ...  \\\n",
       "0                            NaN                        NaN  ...   \n",
       "1                       0.119165                      704.0  ...   \n",
       "2                            NaN                        NaN  ...   \n",
       "3                       0.001532                        NaN  ...   \n",
       "4                            NaN                        NaN  ...   \n",
       "\n",
       "   feature_app_D-3_d3_rev_value  feature_app_D-2_installs  \\\n",
       "0                      0.075404                   11594.0   \n",
       "1                      0.052096                  200522.0   \n",
       "2                      0.189784                    6782.0   \n",
       "3                      0.045476                   40644.0   \n",
       "4                      0.043391                  845087.0   \n",
       "\n",
       "   feature_app_D-2_d0_rev_value  feature_app_D-2_d2_rev_value  \\\n",
       "0                      0.051442                      0.069153   \n",
       "1                      0.028490                      0.046044   \n",
       "2                      0.120070                      0.189299   \n",
       "3                      0.024137                      0.032710   \n",
       "4                      0.026870                      0.037267   \n",
       "\n",
       "   feature_app_D-1_installs  feature_app_D-1_d0_rev_value  \\\n",
       "0                   11090.0                      0.052052   \n",
       "1                  210970.0                      0.033250   \n",
       "2                    6089.0                      0.125201   \n",
       "3                   28002.0                      0.028119   \n",
       "4                  720744.0                      0.026335   \n",
       "\n",
       "   feature_app_D-1_d1_rev_value  feature_app_D0_installs  \\\n",
       "0                      0.063832                  10565.0   \n",
       "1                      0.045672                 213128.0   \n",
       "2                      0.168881                   5403.0   \n",
       "3                      0.033978                  34619.0   \n",
       "4                      0.032965                 765399.0   \n",
       "\n",
       "   feature_app_D0_d0_rev_value  target_site  \n",
       "0                     0.055874     0.026049  \n",
       "1                     0.037260     0.243845  \n",
       "2                     0.122818     0.552939  \n",
       "3                     0.024765     0.023584  \n",
       "4                     0.024237     0.529795  \n",
       "\n",
       "[5 rows x 209 columns]"
      ]
     },
     "execution_count": 5,
     "metadata": {},
     "output_type": "execute_result"
    }
   ],
   "source": [
    "df.head()"
   ]
  },
  {
   "cell_type": "code",
   "execution_count": 6,
   "id": "544f812a",
   "metadata": {},
   "outputs": [
    {
     "name": "stdout",
     "output_type": "stream",
     "text": [
      "<class 'pandas.core.frame.DataFrame'>\n",
      "RangeIndex: 1000000 entries, 0 to 999999\n",
      "Columns: 209 entries, feature_site_D-8_installs to target_site\n",
      "dtypes: float64(209)\n",
      "memory usage: 1.6 GB\n"
     ]
    }
   ],
   "source": [
    "df.info()"
   ]
  },
  {
   "cell_type": "code",
   "execution_count": 7,
   "id": "cc2eabe2",
   "metadata": {},
   "outputs": [
    {
     "name": "stdout",
     "output_type": "stream",
     "text": [
      "feature_site_D-8_installs            26.255127\n",
      "feature_site_D-8_d0_rev_value         0.061138\n",
      "feature_site_D-8_d8_rev_value         0.120903\n",
      "feature_site_D-7_installs            25.955853\n",
      "feature_site_D-7_d0_rev_value         0.061374\n",
      "                                     ...      \n",
      "feature_app_D-1_d0_rev_value          0.064787\n",
      "feature_app_D-1_d1_rev_value          0.083085\n",
      "feature_app_D0_installs          172255.377812\n",
      "feature_app_D0_d0_rev_value           0.064103\n",
      "target_site                           0.171790\n",
      "Length: 209, dtype: float64\n"
     ]
    }
   ],
   "source": [
    "print(df.mean(axis=0))"
   ]
  },
  {
   "cell_type": "markdown",
   "id": "19222d78",
   "metadata": {},
   "source": [
    "### EDA analysis\n",
    "A first look at the data show that there are a lot of missing values. As we are dealing with numerical features the bulk of the preprocessing will consist in how we fill this missing values. It is tempting to fill them with 0, but there might be a better way to do so. \n",
    "\n",
    "For that purpose we dig further in the way the average data are distributed between the different columns. It would be interesting to see how the average value is distributed for each ganularity and each type ov feature: install features and revenue features "
   ]
  },
  {
   "cell_type": "markdown",
   "id": "1dd89139",
   "metadata": {},
   "source": [
    "#### Install features"
   ]
  },
  {
   "cell_type": "code",
   "execution_count": 8,
   "id": "cbb66ca4",
   "metadata": {},
   "outputs": [
    {
     "data": {
      "text/html": [
       "<div>\n",
       "<style scoped>\n",
       "    .dataframe tbody tr th:only-of-type {\n",
       "        vertical-align: middle;\n",
       "    }\n",
       "\n",
       "    .dataframe tbody tr th {\n",
       "        vertical-align: top;\n",
       "    }\n",
       "\n",
       "    .dataframe thead th {\n",
       "        text-align: right;\n",
       "    }\n",
       "</style>\n",
       "<table border=\"1\" class=\"dataframe\">\n",
       "  <thead>\n",
       "    <tr style=\"text-align: right;\">\n",
       "      <th></th>\n",
       "      <th>D-8_installs</th>\n",
       "      <th>D-7_installs</th>\n",
       "      <th>D-6_installs</th>\n",
       "      <th>D-5_installs</th>\n",
       "      <th>D-4_installs</th>\n",
       "      <th>D-3_installs</th>\n",
       "      <th>D-2_installs</th>\n",
       "      <th>D-1_installs</th>\n",
       "      <th>D0_installs</th>\n",
       "    </tr>\n",
       "  </thead>\n",
       "  <tbody>\n",
       "    <tr>\n",
       "      <th>country_only</th>\n",
       "      <td>99468.148125</td>\n",
       "      <td>99513.548513</td>\n",
       "      <td>99772.388495</td>\n",
       "      <td>100207.097962</td>\n",
       "      <td>100573.668884</td>\n",
       "      <td>100720.058162</td>\n",
       "      <td>100738.952235</td>\n",
       "      <td>100791.056469</td>\n",
       "      <td>100896.799504</td>\n",
       "    </tr>\n",
       "    <tr>\n",
       "      <th>country</th>\n",
       "      <td>6593.041653</td>\n",
       "      <td>6718.015306</td>\n",
       "      <td>6851.761743</td>\n",
       "      <td>7003.203284</td>\n",
       "      <td>7175.219712</td>\n",
       "      <td>7336.579654</td>\n",
       "      <td>7502.408824</td>\n",
       "      <td>7664.672497</td>\n",
       "      <td>7838.711971</td>\n",
       "    </tr>\n",
       "    <tr>\n",
       "      <th>site</th>\n",
       "      <td>26.255127</td>\n",
       "      <td>25.955853</td>\n",
       "      <td>25.386049</td>\n",
       "      <td>24.535707</td>\n",
       "      <td>23.741092</td>\n",
       "      <td>23.199464</td>\n",
       "      <td>22.641877</td>\n",
       "      <td>21.903407</td>\n",
       "      <td>21.287428</td>\n",
       "    </tr>\n",
       "    <tr>\n",
       "      <th>campaign</th>\n",
       "      <td>1220.341027</td>\n",
       "      <td>1237.222376</td>\n",
       "      <td>1254.176167</td>\n",
       "      <td>1280.482410</td>\n",
       "      <td>1314.651172</td>\n",
       "      <td>1342.050342</td>\n",
       "      <td>1371.978999</td>\n",
       "      <td>1404.863469</td>\n",
       "      <td>1448.314063</td>\n",
       "    </tr>\n",
       "    <tr>\n",
       "      <th>app_site</th>\n",
       "      <td>843.535940</td>\n",
       "      <td>836.855487</td>\n",
       "      <td>833.849105</td>\n",
       "      <td>828.697512</td>\n",
       "      <td>825.472142</td>\n",
       "      <td>819.025609</td>\n",
       "      <td>813.058810</td>\n",
       "      <td>803.824505</td>\n",
       "      <td>797.983251</td>\n",
       "    </tr>\n",
       "    <tr>\n",
       "      <th>app</th>\n",
       "      <td>150626.191571</td>\n",
       "      <td>152963.711743</td>\n",
       "      <td>155432.568412</td>\n",
       "      <td>158236.151515</td>\n",
       "      <td>161558.689150</td>\n",
       "      <td>164630.454675</td>\n",
       "      <td>167485.068976</td>\n",
       "      <td>170099.160788</td>\n",
       "      <td>172255.377812</td>\n",
       "    </tr>\n",
       "    <tr>\n",
       "      <th>adgroup</th>\n",
       "      <td>1211.417223</td>\n",
       "      <td>1228.486862</td>\n",
       "      <td>1245.350780</td>\n",
       "      <td>1271.824379</td>\n",
       "      <td>1306.107124</td>\n",
       "      <td>1333.467379</td>\n",
       "      <td>1363.551591</td>\n",
       "      <td>1396.601720</td>\n",
       "      <td>1440.262291</td>\n",
       "    </tr>\n",
       "    <tr>\n",
       "      <th>network</th>\n",
       "      <td>1340.148488</td>\n",
       "      <td>1357.753757</td>\n",
       "      <td>1376.781262</td>\n",
       "      <td>1403.788765</td>\n",
       "      <td>1439.339866</td>\n",
       "      <td>1467.755138</td>\n",
       "      <td>1499.823673</td>\n",
       "      <td>1535.772225</td>\n",
       "      <td>1582.561222</td>\n",
       "    </tr>\n",
       "  </tbody>\n",
       "</table>\n",
       "</div>"
      ],
      "text/plain": [
       "               D-8_installs   D-7_installs   D-6_installs   D-5_installs  \\\n",
       "country_only   99468.148125   99513.548513   99772.388495  100207.097962   \n",
       "country         6593.041653    6718.015306    6851.761743    7003.203284   \n",
       "site              26.255127      25.955853      25.386049      24.535707   \n",
       "campaign        1220.341027    1237.222376    1254.176167    1280.482410   \n",
       "app_site         843.535940     836.855487     833.849105     828.697512   \n",
       "app           150626.191571  152963.711743  155432.568412  158236.151515   \n",
       "adgroup         1211.417223    1228.486862    1245.350780    1271.824379   \n",
       "network         1340.148488    1357.753757    1376.781262    1403.788765   \n",
       "\n",
       "               D-4_installs   D-3_installs   D-2_installs   D-1_installs  \\\n",
       "country_only  100573.668884  100720.058162  100738.952235  100791.056469   \n",
       "country         7175.219712    7336.579654    7502.408824    7664.672497   \n",
       "site              23.741092      23.199464      22.641877      21.903407   \n",
       "campaign        1314.651172    1342.050342    1371.978999    1404.863469   \n",
       "app_site         825.472142     819.025609     813.058810     803.824505   \n",
       "app           161558.689150  164630.454675  167485.068976  170099.160788   \n",
       "adgroup         1306.107124    1333.467379    1363.551591    1396.601720   \n",
       "network         1439.339866    1467.755138    1499.823673    1535.772225   \n",
       "\n",
       "                D0_installs  \n",
       "country_only  100896.799504  \n",
       "country         7838.711971  \n",
       "site              21.287428  \n",
       "campaign        1448.314063  \n",
       "app_site         797.983251  \n",
       "app           172255.377812  \n",
       "adgroup         1440.262291  \n",
       "network         1582.561222  "
      ]
     },
     "execution_count": 8,
     "metadata": {},
     "output_type": "execute_result"
    }
   ],
   "source": [
    "df_install = get_clean_average(df, 'installs')\n",
    "df_install"
   ]
  },
  {
   "cell_type": "markdown",
   "id": "4c032462",
   "metadata": {},
   "source": [
    "We see that for a given granularity, the number of install is stable accross the different days considered on average"
   ]
  },
  {
   "cell_type": "markdown",
   "id": "23118710",
   "metadata": {},
   "source": [
    "#### Revenue features"
   ]
  },
  {
   "cell_type": "code",
   "execution_count": 9,
   "id": "9062c603",
   "metadata": {},
   "outputs": [
    {
     "data": {
      "text/html": [
       "<div>\n",
       "<style scoped>\n",
       "    .dataframe tbody tr th:only-of-type {\n",
       "        vertical-align: middle;\n",
       "    }\n",
       "\n",
       "    .dataframe tbody tr th {\n",
       "        vertical-align: top;\n",
       "    }\n",
       "\n",
       "    .dataframe thead th {\n",
       "        text-align: right;\n",
       "    }\n",
       "</style>\n",
       "<table border=\"1\" class=\"dataframe\">\n",
       "  <thead>\n",
       "    <tr style=\"text-align: right;\">\n",
       "      <th></th>\n",
       "      <th>D-8_d0_rev_value</th>\n",
       "      <th>D-8_d8_rev_value</th>\n",
       "      <th>D-7_d0_rev_value</th>\n",
       "      <th>D-7_d7_rev_value</th>\n",
       "      <th>D-6_d0_rev_value</th>\n",
       "      <th>D-6_d6_rev_value</th>\n",
       "      <th>D-5_d0_rev_value</th>\n",
       "      <th>D-5_d5_rev_value</th>\n",
       "      <th>D-4_d0_rev_value</th>\n",
       "      <th>D-4_d4_rev_value</th>\n",
       "      <th>D-3_d0_rev_value</th>\n",
       "      <th>D-3_d3_rev_value</th>\n",
       "      <th>D-2_d0_rev_value</th>\n",
       "      <th>D-2_d2_rev_value</th>\n",
       "      <th>D-1_d0_rev_value</th>\n",
       "      <th>D-1_d1_rev_value</th>\n",
       "      <th>D0_d0_rev_value</th>\n",
       "    </tr>\n",
       "  </thead>\n",
       "  <tbody>\n",
       "    <tr>\n",
       "      <th>country_only</th>\n",
       "      <td>0.056106</td>\n",
       "      <td>0.111311</td>\n",
       "      <td>0.056211</td>\n",
       "      <td>0.108271</td>\n",
       "      <td>0.056367</td>\n",
       "      <td>0.104638</td>\n",
       "      <td>0.056415</td>\n",
       "      <td>0.100270</td>\n",
       "      <td>0.056357</td>\n",
       "      <td>0.095296</td>\n",
       "      <td>0.056334</td>\n",
       "      <td>0.089495</td>\n",
       "      <td>0.056308</td>\n",
       "      <td>0.082085</td>\n",
       "      <td>0.056321</td>\n",
       "      <td>0.071928</td>\n",
       "      <td>0.056387</td>\n",
       "    </tr>\n",
       "    <tr>\n",
       "      <th>country</th>\n",
       "      <td>0.059789</td>\n",
       "      <td>0.118436</td>\n",
       "      <td>0.059945</td>\n",
       "      <td>0.115331</td>\n",
       "      <td>0.060153</td>\n",
       "      <td>0.111566</td>\n",
       "      <td>0.060275</td>\n",
       "      <td>0.107044</td>\n",
       "      <td>0.060179</td>\n",
       "      <td>0.101765</td>\n",
       "      <td>0.060118</td>\n",
       "      <td>0.095494</td>\n",
       "      <td>0.059996</td>\n",
       "      <td>0.087528</td>\n",
       "      <td>0.059960</td>\n",
       "      <td>0.076642</td>\n",
       "      <td>0.059961</td>\n",
       "    </tr>\n",
       "    <tr>\n",
       "      <th>site</th>\n",
       "      <td>0.061138</td>\n",
       "      <td>0.120903</td>\n",
       "      <td>0.061374</td>\n",
       "      <td>0.118011</td>\n",
       "      <td>0.061999</td>\n",
       "      <td>0.114791</td>\n",
       "      <td>0.062218</td>\n",
       "      <td>0.110370</td>\n",
       "      <td>0.062202</td>\n",
       "      <td>0.105199</td>\n",
       "      <td>0.062165</td>\n",
       "      <td>0.098653</td>\n",
       "      <td>0.062231</td>\n",
       "      <td>0.090724</td>\n",
       "      <td>0.062195</td>\n",
       "      <td>0.079529</td>\n",
       "      <td>0.062261</td>\n",
       "    </tr>\n",
       "    <tr>\n",
       "      <th>campaign</th>\n",
       "      <td>0.060677</td>\n",
       "      <td>0.121034</td>\n",
       "      <td>0.060991</td>\n",
       "      <td>0.117986</td>\n",
       "      <td>0.061345</td>\n",
       "      <td>0.114302</td>\n",
       "      <td>0.061475</td>\n",
       "      <td>0.109635</td>\n",
       "      <td>0.061348</td>\n",
       "      <td>0.104084</td>\n",
       "      <td>0.061245</td>\n",
       "      <td>0.097655</td>\n",
       "      <td>0.061039</td>\n",
       "      <td>0.089326</td>\n",
       "      <td>0.060974</td>\n",
       "      <td>0.078122</td>\n",
       "      <td>0.060821</td>\n",
       "    </tr>\n",
       "    <tr>\n",
       "      <th>app_site</th>\n",
       "      <td>0.063832</td>\n",
       "      <td>0.125183</td>\n",
       "      <td>0.064089</td>\n",
       "      <td>0.122360</td>\n",
       "      <td>0.064160</td>\n",
       "      <td>0.118235</td>\n",
       "      <td>0.064313</td>\n",
       "      <td>0.113702</td>\n",
       "      <td>0.064299</td>\n",
       "      <td>0.108329</td>\n",
       "      <td>0.064185</td>\n",
       "      <td>0.101732</td>\n",
       "      <td>0.064070</td>\n",
       "      <td>0.093325</td>\n",
       "      <td>0.064035</td>\n",
       "      <td>0.081877</td>\n",
       "      <td>0.064118</td>\n",
       "    </tr>\n",
       "    <tr>\n",
       "      <th>app</th>\n",
       "      <td>0.069600</td>\n",
       "      <td>0.137789</td>\n",
       "      <td>0.068131</td>\n",
       "      <td>0.132093</td>\n",
       "      <td>0.067373</td>\n",
       "      <td>0.126508</td>\n",
       "      <td>0.067185</td>\n",
       "      <td>0.120776</td>\n",
       "      <td>0.066872</td>\n",
       "      <td>0.114208</td>\n",
       "      <td>0.066445</td>\n",
       "      <td>0.106369</td>\n",
       "      <td>0.065634</td>\n",
       "      <td>0.096263</td>\n",
       "      <td>0.064787</td>\n",
       "      <td>0.083085</td>\n",
       "      <td>0.064103</td>\n",
       "    </tr>\n",
       "    <tr>\n",
       "      <th>adgroup</th>\n",
       "      <td>0.060658</td>\n",
       "      <td>0.120978</td>\n",
       "      <td>0.060973</td>\n",
       "      <td>0.117939</td>\n",
       "      <td>0.061325</td>\n",
       "      <td>0.114256</td>\n",
       "      <td>0.061457</td>\n",
       "      <td>0.109595</td>\n",
       "      <td>0.061332</td>\n",
       "      <td>0.104052</td>\n",
       "      <td>0.061227</td>\n",
       "      <td>0.097621</td>\n",
       "      <td>0.061025</td>\n",
       "      <td>0.089305</td>\n",
       "      <td>0.060965</td>\n",
       "      <td>0.078111</td>\n",
       "      <td>0.060810</td>\n",
       "    </tr>\n",
       "    <tr>\n",
       "      <th>network</th>\n",
       "      <td>0.060668</td>\n",
       "      <td>0.120966</td>\n",
       "      <td>0.060953</td>\n",
       "      <td>0.117898</td>\n",
       "      <td>0.061257</td>\n",
       "      <td>0.114113</td>\n",
       "      <td>0.061387</td>\n",
       "      <td>0.109506</td>\n",
       "      <td>0.061281</td>\n",
       "      <td>0.103988</td>\n",
       "      <td>0.061198</td>\n",
       "      <td>0.097579</td>\n",
       "      <td>0.060984</td>\n",
       "      <td>0.089276</td>\n",
       "      <td>0.060924</td>\n",
       "      <td>0.078080</td>\n",
       "      <td>0.060804</td>\n",
       "    </tr>\n",
       "  </tbody>\n",
       "</table>\n",
       "</div>"
      ],
      "text/plain": [
       "              D-8_d0_rev_value  D-8_d8_rev_value  D-7_d0_rev_value  \\\n",
       "country_only          0.056106          0.111311          0.056211   \n",
       "country               0.059789          0.118436          0.059945   \n",
       "site                  0.061138          0.120903          0.061374   \n",
       "campaign              0.060677          0.121034          0.060991   \n",
       "app_site              0.063832          0.125183          0.064089   \n",
       "app                   0.069600          0.137789          0.068131   \n",
       "adgroup               0.060658          0.120978          0.060973   \n",
       "network               0.060668          0.120966          0.060953   \n",
       "\n",
       "              D-7_d7_rev_value  D-6_d0_rev_value  D-6_d6_rev_value  \\\n",
       "country_only          0.108271          0.056367          0.104638   \n",
       "country               0.115331          0.060153          0.111566   \n",
       "site                  0.118011          0.061999          0.114791   \n",
       "campaign              0.117986          0.061345          0.114302   \n",
       "app_site              0.122360          0.064160          0.118235   \n",
       "app                   0.132093          0.067373          0.126508   \n",
       "adgroup               0.117939          0.061325          0.114256   \n",
       "network               0.117898          0.061257          0.114113   \n",
       "\n",
       "              D-5_d0_rev_value  D-5_d5_rev_value  D-4_d0_rev_value  \\\n",
       "country_only          0.056415          0.100270          0.056357   \n",
       "country               0.060275          0.107044          0.060179   \n",
       "site                  0.062218          0.110370          0.062202   \n",
       "campaign              0.061475          0.109635          0.061348   \n",
       "app_site              0.064313          0.113702          0.064299   \n",
       "app                   0.067185          0.120776          0.066872   \n",
       "adgroup               0.061457          0.109595          0.061332   \n",
       "network               0.061387          0.109506          0.061281   \n",
       "\n",
       "              D-4_d4_rev_value  D-3_d0_rev_value  D-3_d3_rev_value  \\\n",
       "country_only          0.095296          0.056334          0.089495   \n",
       "country               0.101765          0.060118          0.095494   \n",
       "site                  0.105199          0.062165          0.098653   \n",
       "campaign              0.104084          0.061245          0.097655   \n",
       "app_site              0.108329          0.064185          0.101732   \n",
       "app                   0.114208          0.066445          0.106369   \n",
       "adgroup               0.104052          0.061227          0.097621   \n",
       "network               0.103988          0.061198          0.097579   \n",
       "\n",
       "              D-2_d0_rev_value  D-2_d2_rev_value  D-1_d0_rev_value  \\\n",
       "country_only          0.056308          0.082085          0.056321   \n",
       "country               0.059996          0.087528          0.059960   \n",
       "site                  0.062231          0.090724          0.062195   \n",
       "campaign              0.061039          0.089326          0.060974   \n",
       "app_site              0.064070          0.093325          0.064035   \n",
       "app                   0.065634          0.096263          0.064787   \n",
       "adgroup               0.061025          0.089305          0.060965   \n",
       "network               0.060984          0.089276          0.060924   \n",
       "\n",
       "              D-1_d1_rev_value  D0_d0_rev_value  \n",
       "country_only          0.071928         0.056387  \n",
       "country               0.076642         0.059961  \n",
       "site                  0.079529         0.062261  \n",
       "campaign              0.078122         0.060821  \n",
       "app_site              0.081877         0.064118  \n",
       "app                   0.083085         0.064103  \n",
       "adgroup               0.078111         0.060810  \n",
       "network               0.078080         0.060804  "
      ]
     },
     "execution_count": 9,
     "metadata": {},
     "output_type": "execute_result"
    }
   ],
   "source": [
    "df_revenue = get_clean_average(df, 'value')\n",
    "df_revenue"
   ]
  },
  {
   "cell_type": "markdown",
   "id": "56588a78",
   "metadata": {},
   "source": [
    "Interestingly, there seem to be some stability for each feature accross granularities in the Revenue case."
   ]
  },
  {
   "cell_type": "markdown",
   "id": "693392c2",
   "metadata": {},
   "source": [
    "#### Pre-processing\n",
    "Given these observation we'll handle null values differently for Revenue features and installs features.\n",
    "Revenue features will have their null values replaced by the average of the corresponding column whereas install features will have their null values replaced by the average of the corresponding row"
   ]
  },
  {
   "cell_type": "markdown",
   "id": "c071aad0",
   "metadata": {},
   "source": [
    "# Model Choice"
   ]
  },
  {
   "cell_type": "markdown",
   "id": "38732282",
   "metadata": {},
   "source": [
    "Given that time is limited well compare different model performance with their default setting to choose our model"
   ]
  },
  {
   "cell_type": "markdown",
   "id": "1ba48c80",
   "metadata": {},
   "source": [
    "### Data\n",
    "we reduce our training data to compare the models"
   ]
  },
  {
   "cell_type": "code",
   "execution_count": 10,
   "id": "f5eeb1c4",
   "metadata": {},
   "outputs": [],
   "source": [
    "df1 = df.sample(frac= 0.3)\n",
    "df_clean = preprocess(df1)"
   ]
  },
  {
   "cell_type": "code",
   "execution_count": 11,
   "id": "c129d83b",
   "metadata": {},
   "outputs": [
    {
     "name": "stdout",
     "output_type": "stream",
     "text": [
      "<class 'pandas.core.frame.DataFrame'>\n",
      "Int64Index: 300000 entries, 277000 to 721059\n",
      "Columns: 209 entries, feature_site_D-8_installs to target_site\n",
      "dtypes: float64(209)\n",
      "memory usage: 480.7 MB\n"
     ]
    }
   ],
   "source": [
    "df_clean.info()"
   ]
  },
  {
   "cell_type": "code",
   "execution_count": 12,
   "id": "876301c8",
   "metadata": {},
   "outputs": [
    {
     "data": {
      "text/plain": [
       "False"
      ]
     },
     "execution_count": 12,
     "metadata": {},
     "output_type": "execute_result"
    }
   ],
   "source": [
    "# lets check there is no null value left\n",
    "df_clean.isna().values.any()"
   ]
  },
  {
   "cell_type": "code",
   "execution_count": 13,
   "id": "1886dd5b",
   "metadata": {},
   "outputs": [],
   "source": [
    "from sklearn.model_selection import train_test_split\n"
   ]
  },
  {
   "cell_type": "code",
   "execution_count": 14,
   "id": "96c827cb",
   "metadata": {},
   "outputs": [],
   "source": [
    "X = df_clean\n",
    "y = X.pop('target_site')\n",
    "X_train, X_val, y_train, y_val = train_test_split(\n",
    "        X, y, test_size=0.2)"
   ]
  },
  {
   "cell_type": "code",
   "execution_count": 15,
   "id": "b70644e1",
   "metadata": {},
   "outputs": [],
   "source": [
    "# we perform some scaling on the data. It is not necessary for tree based models but we'll keep a common \n",
    "# groundwork for our analysis\n",
    "from sklearn.preprocessing import StandardScaler\n",
    "scaler = StandardScaler()\n",
    "X_train = scaler.fit_transform(X_train)\n",
    "X_val = scaler.transform(X_val)\n"
   ]
  },
  {
   "cell_type": "markdown",
   "id": "411b8bf2",
   "metadata": {},
   "source": [
    "### Regression"
   ]
  },
  {
   "cell_type": "markdown",
   "id": "1db7cf00",
   "metadata": {},
   "source": [
    "regression will give us a benchmark. It's unlikely to be the most performant model, we should be able to do better with ensemble models or Neural Networks"
   ]
  },
  {
   "cell_type": "code",
   "execution_count": 16,
   "id": "e5e87734",
   "metadata": {},
   "outputs": [
    {
     "name": "stdout",
     "output_type": "stream",
     "text": [
      "Ridge regression r2: 0.3521461225942428\n"
     ]
    }
   ],
   "source": [
    "from sklearn.linear_model import Ridge\n",
    "\n",
    "# we impose a penalty using Ridge regression\n",
    "reg = Ridge()\n",
    "reg.fit(X_train, y_train)\n",
    "r2 = reg.score(X_val, y_val)\n",
    "print(f'Ridge regression r2: {r2}')"
   ]
  },
  {
   "cell_type": "markdown",
   "id": "b2a4e36a",
   "metadata": {},
   "source": [
    "### Random forests"
   ]
  },
  {
   "cell_type": "code",
   "execution_count": 17,
   "id": "8958d881",
   "metadata": {},
   "outputs": [],
   "source": [
    "#from sklearn.ensemble import RandomForestRegressor\n",
    "#reg_rf = RandomForestRegressor(n_estimators=25)\n",
    "#reg_rf.fit(X_train, y_train)\n",
    "#r2 = reg_rf.score(X_val, y_val)\n",
    "#print(f'Random forest r2: {r2}')"
   ]
  },
  {
   "cell_type": "markdown",
   "id": "3f2bae1d",
   "metadata": {},
   "source": [
    "Random forest takes too much time we try Light GBM "
   ]
  },
  {
   "cell_type": "markdown",
   "id": "e57f6555",
   "metadata": {},
   "source": [
    "### Light GBM"
   ]
  },
  {
   "cell_type": "code",
   "execution_count": 20,
   "id": "0b49fc2e",
   "metadata": {},
   "outputs": [
    {
     "name": "stdout",
     "output_type": "stream",
     "text": [
      "Light gbm r2: 0.36197570559213\n"
     ]
    }
   ],
   "source": [
    "from lightgbm import LGBMRegressor\n",
    "reg_lg = LGBMRegressor(n_estimators=100)\n",
    "reg_lg.fit(X_train, y_train)\n",
    "r2 = reg_lg.score(X_val, y_val)\n",
    "print(f'Light gbm r2: {r2}')"
   ]
  },
  {
   "cell_type": "markdown",
   "id": "6223823e",
   "metadata": {},
   "source": [
    "Results so far don't look great we'll try some more preprocessing. Noticing that many columns in the revenu summary are pretty low, we could potentially drop them and reduce the dimensionality of our data. We could do some PCA also. \n",
    "\n",
    "For now as LightGBM looks slightly better we'll see if we can optimize it. We'll use all of our taining data."
   ]
  },
  {
   "cell_type": "markdown",
   "id": "2bf6d3fa",
   "metadata": {},
   "source": [
    "### Hyperparameters tuning for LightGBM"
   ]
  },
  {
   "cell_type": "code",
   "execution_count": 28,
   "id": "d71ae6bf",
   "metadata": {},
   "outputs": [
    {
     "name": "stdout",
     "output_type": "stream",
     "text": [
      "(1000000, 209)\n",
      "False\n"
     ]
    }
   ],
   "source": [
    "df_clean = preprocess(df)\n",
    "# we check the resulting dataframe has the proper shape\n",
    "print(df_clean.shape)\n",
    "# we check they are not null values left\n",
    "print(df_clean.isna().values.any())"
   ]
  },
  {
   "cell_type": "code",
   "execution_count": 29,
   "id": "12ae9a9f",
   "metadata": {},
   "outputs": [],
   "source": [
    "# No need to scale the data as we're using a tree based model\n",
    "X = df_clean\n",
    "y = X.pop('target_site')\n",
    "X_train, X_val, y_train, y_val = train_test_split(\n",
    "        X, y, test_size=0.2)"
   ]
  },
  {
   "cell_type": "code",
   "execution_count": 30,
   "id": "3dd83cc8",
   "metadata": {},
   "outputs": [
    {
     "name": "stdout",
     "output_type": "stream",
     "text": [
      "Light gbm r2: 0.3615388860545832\n"
     ]
    }
   ],
   "source": [
    "reg_lg = LGBMRegressor(n_estimators=100)\n",
    "reg_lg.fit(X_train, y_train)\n",
    "r2 = reg_lg.score(X_val, y_val)\n",
    "print(f'Light gbm r2: {r2}')"
   ]
  },
  {
   "cell_type": "code",
   "execution_count": 31,
   "id": "6a429d1e",
   "metadata": {},
   "outputs": [
    {
     "name": "stdout",
     "output_type": "stream",
     "text": [
      "Light gbm r2 on training data: 0.38881527254117143\n"
     ]
    }
   ],
   "source": [
    "r2_training = reg_lg.score(X_train, y_train)\n",
    "print(f'Light gbm r2 on training data: {r2_training}')"
   ]
  },
  {
   "cell_type": "markdown",
   "id": "fdf23ffa",
   "metadata": {},
   "source": [
    "The performance on the training data is not too far to the one on the eval data, there doesn't seem to have an overfitting issue. We'll try to adjust max_depth (default -1) and n_estimators(defaut 100)"
   ]
  },
  {
   "cell_type": "code",
   "execution_count": 32,
   "id": "1df60fe4",
   "metadata": {},
   "outputs": [
    {
     "name": "stdout",
     "output_type": "stream",
     "text": [
      "Light gbm r2 with n_estimator=50 and max_depth=-1: 0.359655617988591\n",
      "Light gbm r2 with n_estimator=50 and max_depth=5: 0.35855956346878637\n",
      "Light gbm r2 with n_estimator=50 and max_depth=10: 0.3599834789892621\n",
      "Light gbm r2 with n_estimator=100 and max_depth=-1: 0.3615388860545832\n",
      "Light gbm r2 with n_estimator=100 and max_depth=5: 0.3618232539083529\n",
      "Light gbm r2 with n_estimator=100 and max_depth=10: 0.36216483021066637\n",
      "Light gbm r2 with n_estimator=200 and max_depth=-1: 0.3633136739078455\n",
      "Light gbm r2 with n_estimator=200 and max_depth=5: 0.3639265487871285\n",
      "Light gbm r2 with n_estimator=200 and max_depth=10: 0.36387306213377624\n"
     ]
    }
   ],
   "source": [
    "for n_estimator in [50, 100, 200]:\n",
    "    for max_depth in [-1, 5, 10]:\n",
    "        reg_lg = LGBMRegressor(n_estimators=n_estimator, max_depth=max_depth)\n",
    "        reg_lg.fit(X_train, y_train)\n",
    "        r2 = reg_lg.score(X_val, y_val)\n",
    "        print(f'Light gbm r2 with n_estimator={n_estimator} and max_depth={max_depth}: {r2}') "
   ]
  },
  {
   "cell_type": "code",
   "execution_count": 33,
   "id": "d8ff8ada",
   "metadata": {},
   "outputs": [
    {
     "name": "stdout",
     "output_type": "stream",
     "text": [
      "Light gbm r2 with n_estimator=200 and max_depth=2: 0.35406332119631323\n",
      "Light gbm r2 with n_estimator=200 and max_depth=4: 0.3627851791470833\n",
      "Light gbm r2 with n_estimator=200 and max_depth=6: 0.36476846247764405\n",
      "Light gbm r2 with n_estimator=250 and max_depth=2: 0.355455269813172\n",
      "Light gbm r2 with n_estimator=250 and max_depth=4: 0.363730356768292\n",
      "Light gbm r2 with n_estimator=250 and max_depth=6: 0.3647833547752981\n",
      "Light gbm r2 with n_estimator=300 and max_depth=2: 0.3564922983433856\n",
      "Light gbm r2 with n_estimator=300 and max_depth=4: 0.36442834714203076\n",
      "Light gbm r2 with n_estimator=300 and max_depth=6: 0.3645939263793777\n"
     ]
    }
   ],
   "source": [
    "for n_estimator in [200, 250, 300]:\n",
    "    for max_depth in [2, 4, 6]:\n",
    "        reg_lg = LGBMRegressor(n_estimators=n_estimator, max_depth=max_depth)\n",
    "        reg_lg.fit(X_train, y_train)\n",
    "        r2 = reg_lg.score(X_val, y_val)\n",
    "        print(f'Light gbm r2 with n_estimator={n_estimator} and max_depth={max_depth}: {r2}') "
   ]
  },
  {
   "cell_type": "markdown",
   "id": "c6854dc3",
   "metadata": {},
   "source": [
    "The best result is obtained with n_estimator=200 and max_depth=6. That's the parameter we choose"
   ]
  },
  {
   "cell_type": "markdown",
   "id": "b419d95a",
   "metadata": {},
   "source": [
    "### Final model calibration"
   ]
  },
  {
   "cell_type": "markdown",
   "id": "ecefd7e2",
   "metadata": {},
   "source": [
    "To calibrate our final model we use all the available training data."
   ]
  },
  {
   "cell_type": "code",
   "execution_count": 35,
   "id": "af72f01a",
   "metadata": {},
   "outputs": [
    {
     "data": {
      "text/plain": [
       "LGBMRegressor(max_depth=6, n_estimators=200)"
      ]
     },
     "execution_count": 35,
     "metadata": {},
     "output_type": "execute_result"
    }
   ],
   "source": [
    "reg_lg = LGBMRegressor(n_estimators=200, max_depth=6)\n",
    "reg_lg.fit(X, y)"
   ]
  },
  {
   "cell_type": "markdown",
   "id": "86d1f448",
   "metadata": {},
   "source": [
    "# Test results of the final model"
   ]
  },
  {
   "cell_type": "code",
   "execution_count": 38,
   "id": "54e55c0c",
   "metadata": {},
   "outputs": [],
   "source": [
    "df_test = get_data('eval')"
   ]
  },
  {
   "cell_type": "code",
   "execution_count": 39,
   "id": "34fc4a16",
   "metadata": {},
   "outputs": [
    {
     "name": "stdout",
     "output_type": "stream",
     "text": [
      "(100000, 208)\n"
     ]
    }
   ],
   "source": [
    "df_test_clean = preprocess(df_test)\n",
    "X = df_test_clean\n",
    "y = X.pop('target_site')\n",
    "print(X.shape)"
   ]
  },
  {
   "cell_type": "code",
   "execution_count": 40,
   "id": "bb81b75e",
   "metadata": {},
   "outputs": [
    {
     "name": "stdout",
     "output_type": "stream",
     "text": [
      "Light gbm r2 test result: 0.34678620568966323\n"
     ]
    }
   ],
   "source": [
    "r2_test = reg_lg.score(X, y)\n",
    "print(f'Light gbm r2 test result: {r2_test}') "
   ]
  },
  {
   "cell_type": "markdown",
   "id": "a7cbe90e",
   "metadata": {},
   "source": [
    "# Conclusion"
   ]
  },
  {
   "cell_type": "markdown",
   "id": "44c7bda8",
   "metadata": {},
   "source": [
    "The model selected is a LightGBM with n_estimators=200 and max_depth=6. It achieves a r2 of 0.35 on the test dataset which is similar to the performance reached during training.\n"
   ]
  },
  {
   "cell_type": "markdown",
   "id": "7e6dbc94",
   "metadata": {},
   "source": [
    "# Further experiments"
   ]
  },
  {
   "cell_type": "markdown",
   "id": "31f0155e",
   "metadata": {},
   "source": [
    "- Given the size of the dataset, it would have been interesting to explore Neural Networks. \n",
    "- It would have been interested to fine-tune other parameters for the LightGBM\n",
    "- It could be interesting to see if by reducing the number of features we could get some improvement:\n",
    "    - either by grouping some columns and average them\n",
    "    - or by performing some PCA before training the model"
   ]
  },
  {
   "cell_type": "code",
   "execution_count": null,
   "id": "5dfebb19",
   "metadata": {},
   "outputs": [],
   "source": []
  }
 ],
 "metadata": {
  "kernelspec": {
   "display_name": "myenv39",
   "language": "python",
   "name": "myenv39"
  },
  "language_info": {
   "codemirror_mode": {
    "name": "ipython",
    "version": 3
   },
   "file_extension": ".py",
   "mimetype": "text/x-python",
   "name": "python",
   "nbconvert_exporter": "python",
   "pygments_lexer": "ipython3",
   "version": "3.9.7"
  }
 },
 "nbformat": 4,
 "nbformat_minor": 5
}
